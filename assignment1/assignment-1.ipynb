{
 "cells": [
  {
   "cell_type": "code",
   "execution_count": 1,
   "metadata": {},
   "outputs": [
    {
     "name": "stderr",
     "output_type": "stream",
     "text": [
      "/opt/anaconda3/lib/python3.7/site-packages/sklearn/utils/deprecation.py:58: DeprecationWarning: Class Imputer is deprecated; Imputer was deprecated in version 0.20 and will be removed in 0.22. Import impute.SimpleImputer from sklearn instead.\n",
      "  warnings.warn(msg, category=DeprecationWarning)\n",
      "/opt/anaconda3/lib/python3.7/site-packages/sklearn/preprocessing/_encoders.py:368: FutureWarning: The handling of integer data will change in version 0.22. Currently, the categories are determined based on the range [0, max(values)], while in the future they will be determined based on the unique values.\n",
      "If you want the future behaviour and silence this warning, you can specify \"categories='auto'\".\n",
      "In case you used a LabelEncoder before this OneHotEncoder to convert the categories to integers, then you can now use the OneHotEncoder directly.\n",
      "  warnings.warn(msg, FutureWarning)\n",
      "/opt/anaconda3/lib/python3.7/site-packages/sklearn/preprocessing/_encoders.py:390: DeprecationWarning: The 'categorical_features' keyword is deprecated in version 0.20 and will be removed in 0.22. You can use the ColumnTransformer instead.\n",
      "  \"use the ColumnTransformer instead.\", DeprecationWarning)\n"
     ]
    },
    {
     "name": "stdout",
     "output_type": "stream",
     "text": [
      "0.8723845572645372\n",
      "0.8724089068607574\n",
      "0.872384779556092\n",
      "0.8724331957509504\n",
      "0.8723850018455449\n"
     ]
    },
    {
     "name": "stderr",
     "output_type": "stream",
     "text": [
      "/opt/anaconda3/lib/python3.7/site-packages/sklearn/linear_model/coordinate_descent.py:492: ConvergenceWarning: Objective did not converge. You might want to increase the number of iterations. Fitting data with very small alpha may cause precision problems.\n",
      "  ConvergenceWarning)\n",
      "/opt/anaconda3/lib/python3.7/site-packages/sklearn/linear_model/coordinate_descent.py:492: ConvergenceWarning: Objective did not converge. You might want to increase the number of iterations. Fitting data with very small alpha may cause precision problems.\n",
      "  ConvergenceWarning)\n"
     ]
    },
    {
     "data": {
      "text/plain": [
       "[<matplotlib.lines.Line2D at 0x7f0493067f60>]"
      ]
     },
     "execution_count": 1,
     "metadata": {},
     "output_type": "execute_result"
    }
   ],
   "source": [
    "#!/usr/bin/env python3\n",
    "# -*- coding: utf-8 -*-\n",
    "\n",
    "import numpy as np\n",
    "import matplotlib.pyplot as plt\n",
    "import pandas as pd\n",
    "\n",
    "# Import dataset\n",
    "dataset = pd.read_csv('50Startups.csv')\n",
    "x = dataset.iloc[:, :-1].values\n",
    "y = dataset.iloc[:, -1].values\n",
    "\n",
    "# Handling missing data\n",
    "from sklearn.preprocessing import Imputer\n",
    "imputer = Imputer(missing_values=0, strategy='mean', axis=0)\n",
    "imputer = imputer.fit(x[:, 0:3])\n",
    "x[:, 0:3] = imputer.transform(x[:, 0:3])\n",
    "\n",
    "# Encode categorical data\n",
    "from sklearn.preprocessing import LabelEncoder, OneHotEncoder\n",
    "from sklearn.compose import ColumnTransformer\n",
    "labelencoder = LabelEncoder()\n",
    "x[:, -1] = labelencoder.fit_transform(x[:, -1])  # transform only specified colums\n",
    "onehotencoder = OneHotEncoder(categorical_features=[-1])\n",
    "x = onehotencoder.fit_transform(x).toarray()  # columns are specified in constructor hence transform entire thing\n",
    "\n",
    "\n",
    "# split data into training and testing\n",
    "from sklearn.model_selection import train_test_split\n",
    "x_train, x_test, y_train, y_test = train_test_split(x, y, test_size=1/3, random_state=0)\n",
    "\n",
    "# Linear regression\n",
    "from sklearn import linear_model\n",
    "\n",
    "reg1 = linear_model.LinearRegression()\n",
    "reg1.fit(x_train, y_train)\n",
    "\n",
    "reg2 = linear_model.Ridge(alpha=.005)\n",
    "reg2.fit(x_train, y_train)\n",
    "\n",
    "reg3 = linear_model.Lasso(alpha=.005)\n",
    "reg3.fit(x_train, y_train)\n",
    "\n",
    "reg4 = linear_model.Ridge(alpha=.01)\n",
    "reg4.fit(x_train, y_train)\n",
    "\n",
    "reg5 = linear_model.Lasso(alpha=.01)\n",
    "reg5.fit(x_train, y_train)\n",
    "\n",
    "# testing for accuracy\n",
    "from sklearn.metrics import explained_variance_score\n",
    "\n",
    "y_pred1 = reg1.predict(x_test)\n",
    "y_pred2 = reg2.predict(x_test)\n",
    "y_pred3 = reg3.predict(x_test)\n",
    "y_pred4 = reg4.predict(x_test)\n",
    "y_pred5 = reg5.predict(x_test)\n",
    "\n",
    "print(explained_variance_score(y_test, y_pred1))\n",
    "print(explained_variance_score(y_test, y_pred2))\n",
    "print(explained_variance_score(y_test, y_pred3))\n",
    "print(explained_variance_score(y_test, y_pred4))\n",
    "print(explained_variance_score(y_test, y_pred5))\n",
    "\n",
    "plt.plot(np.arange(0, 17), y_test, marker='o', linestyle='dashed', color='blue')\n",
    "plt.plot(np.arange(0, 17), y_pred1, marker='o', linestyle='dashed', color='green')\n",
    "plt.plot(np.arange(0, 17), y_pred2, marker='o', linestyle='dashed', color='red')\n",
    "plt.plot(np.arange(0, 17), y_pred3, marker='o', linestyle='dashed', color='black')\n",
    "plt.plot(np.arange(0, 17), y_pred4, marker='o', linestyle='dashed', color='orange')\n",
    "plt.plot(np.arange(0, 17), y_pred5, marker='o', linestyle='dashed', color='purple')\n"
   ]
  },
  {
   "cell_type": "code",
   "execution_count": null,
   "metadata": {},
   "outputs": [],
   "source": []
  }
 ],
 "metadata": {
  "kernelspec": {
   "display_name": "Python 3",
   "language": "python",
   "name": "python3"
  },
  "language_info": {
   "codemirror_mode": {
    "name": "ipython",
    "version": 3
   },
   "file_extension": ".py",
   "mimetype": "text/x-python",
   "name": "python",
   "nbconvert_exporter": "python",
   "pygments_lexer": "ipython3",
   "version": "3.7.1"
  }
 },
 "nbformat": 4,
 "nbformat_minor": 2
}
