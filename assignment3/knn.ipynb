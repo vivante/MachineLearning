{
 "cells": [
  {
   "cell_type": "code",
   "execution_count": 1,
   "metadata": {},
   "outputs": [],
   "source": [
    "# Importing the libraries\n",
    "import numpy as np\n",
    "import matplotlib.pyplot as plt\n",
    "from matplotlib.colors import ListedColormap\n",
    "import pandas as pd\n",
    "from sklearn.model_selection import train_test_split\n",
    "from sklearn.metrics import accuracy_score, confusion_matrix"
   ]
  },
  {
   "cell_type": "code",
   "execution_count": 2,
   "metadata": {},
   "outputs": [],
   "source": [
    "# Importing the dataset\n",
    "dataset = pd.read_csv('dataset-nonlinsep.csv')\n",
    "X = dataset.iloc[:, [0,1]].values\n",
    "Y = dataset.iloc[:, 2].values"
   ]
  },
  {
   "cell_type": "code",
   "execution_count": 3,
   "metadata": {},
   "outputs": [],
   "source": [
    "def plot_data(x, y, title):\n",
    "    plt.scatter(x[:, 0], x[:, 1], c=Y)\n",
    "    plt.xlabel('x1')\n",
    "    plt.ylabel('x2')\n",
    "    plt.title(title)\n",
    "    plt.show()"
   ]
  },
  {
   "cell_type": "code",
   "execution_count": 16,
   "metadata": {},
   "outputs": [],
   "source": [
    "# Splitting the dataset into the Training set and Test set\n",
    "X_train, X_test, Y_train, Y_test = train_test_split(X, Y, test_size=0.4, random_state=0)"
   ]
  },
  {
   "cell_type": "code",
   "execution_count": 17,
   "metadata": {},
   "outputs": [],
   "source": [
    "class KNN():\n",
    "    def __init__(self, K, x_train, y_train):\n",
    "        self.K = K\n",
    "        self.xs = x_train.copy()\n",
    "        self.ys = y_train.copy().reshape((len(y_train), 1))\n",
    "\n",
    "    def h(self, x_in):\n",
    "        def sqDist(elem1, elem2):\n",
    "            return np.sum((elem1 - elem2) ** 2)\n",
    "\n",
    "        distances = np.array([sqDist(x_in, x) for x in self.xs])\n",
    "        distances = distances.reshape((distances.size, 1))\n",
    "\n",
    "        join = np.concatenate((self.xs, self.ys, distances), axis=1)\n",
    "        dist_ind_order = np.argsort(join[:, -1])\n",
    "        join = join[dist_ind_order]\n",
    "        K_nearest = join[:self.K]\n",
    "        labels = K_nearest[:, -2].astype('int')\n",
    "        prediction = np.argmax(np.bincount(labels))\n",
    "        return prediction\n",
    "    \n",
    "    def predict(self, xs):\n",
    "        return np.array([self.h(x) for x in xs])"
   ]
  },
  {
   "cell_type": "code",
   "execution_count": 18,
   "metadata": {},
   "outputs": [],
   "source": [
    "knn = KNN(3, X_train, Y_train)"
   ]
  },
  {
   "cell_type": "code",
   "execution_count": 19,
   "metadata": {},
   "outputs": [
    {
     "data": {
      "image/png": "[encoded data removed]",
      "text/plain": [
       "<Figure size 432x288 with 1 Axes>"
      ]
     },
     "metadata": {
      "needs_background": "light"
     },
     "output_type": "display_data"
    }
   ],
   "source": [
    "# Plot KNN and training set\n",
    "X_set, y_set = X_train, Y_train\n",
    "X_grid_0 = np.arange(start=X_set[:, 0].min() - 1, stop=X_set[:, 0].max() + 1, step=0.1)\n",
    "X_grid_1 = np.arange(start=X_set[:, 1].min() - 1, stop=X_set[:, 1].max() + 1, step=0.1)\n",
    "X1 , X2 = np.meshgrid(X_grid_0, X_grid_1)\n",
    "\n",
    "X3 = knn.predict(np.array([X1.ravel(),X2.ravel()]).T).reshape(X1.shape)\n",
    "\n",
    "plt.contourf(X1, X2, X3, alpha=0.50, cmap=ListedColormap((\"yellow\", \"cyan\")))\n",
    "plt.xlim(X1.min(), X1.max())\n",
    "plt.ylim(X2.min(), X2.max())\n",
    "\n",
    "for i, j in enumerate(np.unique(y_set)):\n",
    "    plt.scatter(\n",
    "        X_set[y_set == j, 0],\n",
    "        X_set[y_set == j, 1],\n",
    "        label = j,\n",
    "        edgecolors = \"Black\"\n",
    "    )\n",
    "plt.title(\"Training Data and KNN\")\n",
    "plt.xlabel(\"x1\")\n",
    "plt.ylabel(\"x2\")\n",
    "plt.legend()\n",
    "plt.show()"
   ]
  },
  {
   "cell_type": "code",
   "execution_count": 20,
   "metadata": {},
   "outputs": [
    {
     "data": {
      "image/png": "[encoded data removed]",
      "text/plain": [
       "<Figure size 432x288 with 1 Axes>"
      ]
     },
     "metadata": {
      "needs_background": "light"
     },
     "output_type": "display_data"
    }
   ],
   "source": [
    "# Plot KNN and test set\n",
    "X_set, y_set = X_test, Y_test\n",
    "X_grid_0 = np.arange(start=X_set[:, 0].min() - 1, stop=X_set[:, 0].max() + 1, step=0.1)\n",
    "X_grid_1 = np.arange(start=X_set[:, 1].min() - 1, stop=X_set[:, 1].max() + 1, step=0.1)\n",
    "X1 , X2 = np.meshgrid(X_grid_0, X_grid_1)\n",
    "\n",
    "X3 = knn.predict(np.array([X1.ravel(),X2.ravel()]).T).reshape(X1.shape)\n",
    "\n",
    "plt.contourf(X1, X2, X3, alpha=0.50, cmap=ListedColormap((\"yellow\", \"cyan\")))\n",
    "plt.xlim(X1.min(), X1.max())\n",
    "plt.ylim(X2.min(), X2.max())\n",
    "\n",
    "for i, j in enumerate(np.unique(y_set)):\n",
    "    plt.scatter(\n",
    "        X_set[y_set == j, 0],\n",
    "        X_set[y_set == j, 1],\n",
    "        label = j,\n",
    "        edgecolors = \"Black\"\n",
    "    )\n",
    "plt.title(\"Test Data and KNN\")\n",
    "plt.xlabel(\"x1\")\n",
    "plt.ylabel(\"x2\")\n",
    "plt.legend()\n",
    "plt.show()"
   ]
  },
  {
   "cell_type": "code",
   "execution_count": 21,
   "metadata": {},
   "outputs": [
    {
     "name": "stdout",
     "output_type": "stream",
     "text": [
      "Accuracy: 1.0\n",
      "Confusion matrix:\n",
      "[[18  0]\n",
      " [ 0 22]]\n"
     ]
    }
   ],
   "source": [
    "predictions = knn.predict(X_test)\n",
    "acc = accuracy_score(Y_test, predictions)\n",
    "cm = confusion_matrix(Y_test, predictions)\n",
    "print('Accuracy: {}'.format(acc))\n",
    "print('Confusion matrix:\\n{}'.format(cm))"
   ]
  },
  {
   "cell_type": "code",
   "execution_count": null,
   "metadata": {},
   "outputs": [],
   "source": []
  }
 ],
 "metadata": {
  "kernelspec": {
   "display_name": "Python 3",
   "language": "python",
   "name": "python3"
  },
  "language_info": {
   "codemirror_mode": {
    "name": "ipython",
    "version": 3
   },
   "file_extension": ".py",
   "mimetype": "text/x-python",
   "name": "python",
   "nbconvert_exporter": "python",
   "pygments_lexer": "ipython3",
   "version": "3.7.1"
  }
 },
 "nbformat": 4,
 "nbformat_minor": 2
}
