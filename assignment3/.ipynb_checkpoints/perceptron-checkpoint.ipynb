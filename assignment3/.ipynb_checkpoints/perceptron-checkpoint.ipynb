{
 "cells": [
  {
   "cell_type": "code",
   "execution_count": 9,
   "metadata": {},
   "outputs": [],
   "source": [
    "import matplotlib.pyplot as plt\n",
    "from matplotlib.colors import ListedColormap\n",
    "import pandas as pd\n",
    "import numpy as np\n",
    "from sklearn.model_selection import train_test_split\n",
    "from sklearn.metrics import accuracy_score, confusion_matrix"
   ]
  },
  {
   "cell_type": "code",
   "execution_count": 10,
   "metadata": {},
   "outputs": [],
   "source": [
    "dataset = pd.read_csv('./dataset.csv')\n",
    "x = dataset.iloc[:, :-1].values\n",
    "y = dataset.iloc[:, -1].values\n",
    "y[y==0] = -1  # change all '0' labels to '-1'"
   ]
  },
  {
   "cell_type": "code",
   "execution_count": 11,
   "metadata": {},
   "outputs": [],
   "source": [
    "# Split data into training and testing\n",
    "x_train, x_test, y_train, y_test = train_test_split(x, y, test_size=1/3, random_state=0)"
   ]
  },
  {
   "cell_type": "code",
   "execution_count": 16,
   "metadata": {},
   "outputs": [],
   "source": [
    "class Perceptron:\n",
    "    def __init__(self, feature_len, learning_rate=0.05):\n",
    "        self.weights = np.random.ranf(size=feature_len + 1)\n",
    "        self.learning_rate = learning_rate\n",
    "\n",
    "    def __str__(self):\n",
    "        return 'W: {}'.format(self.weights)\n",
    "\n",
    "    def predict(self, xs):\n",
    "        return np.array(list(map(lambda x: self.h(x), xs)))\n",
    "\n",
    "    def h(self, x):\n",
    "        return self.activation(self.dot(x))\n",
    "\n",
    "    def dot(self, x):\n",
    "        return np.dot(self.weights, np.append(x, 1))\n",
    "\n",
    "    def activation(self, y_in):\n",
    "        return np.sign(y_in)\n",
    "\n",
    "    def functional_margin(self, x, y):\n",
    "        return self.dot(x) * y\n",
    "\n",
    "    def fit(self):\n",
    "        mistake = True  # convergence criterion: No more mistakes on training data\n",
    "        while mistake:\n",
    "            mistake = False\n",
    "            for x, y in zip(x_train, y_train):\n",
    "                if self.functional_margin(x, y) <= 0:\n",
    "                    mistake = True\n",
    "                    self.weights += (np.append(x, 1) * y * self.learning_rate)"
   ]
  },
  {
   "cell_type": "code",
   "execution_count": 17,
   "metadata": {},
   "outputs": [
    {
     "name": "stdout",
     "output_type": "stream",
     "text": [
      "W: [0.20895486 0.38545352 0.91451003]\n"
     ]
    }
   ],
   "source": [
    "model = Perceptron(2, 0.5)\n",
    "print(model)"
   ]
  },
  {
   "cell_type": "code",
   "execution_count": 18,
   "metadata": {},
   "outputs": [
    {
     "data": {
      "image/png": "[encoded data removed]",
      "text/plain": [
       "<Figure size 432x288 with 1 Axes>"
      ]
     },
     "metadata": {
      "needs_background": "light"
     },
     "output_type": "display_data"
    }
   ],
   "source": [
    "# Plot SVM and training data before fitting\n",
    "X_set, y_set = x_train, y_train\n",
    "X_grid_0 = np.arange(start=X_set[:, 0].min() - 1, stop=X_set[:, 0].max() + 1, step=0.01)\n",
    "X_grid_1 = np.arange(start=X_set[:, 1].min() - 1, stop=X_set[:, 1].max() + 1, step=0.01)\n",
    "X1 , X2 = np.meshgrid(X_grid_0, X_grid_1)\n",
    "\n",
    "X3 = model.predict(np.array([X1.ravel(),X2.ravel()]).T).reshape(X1.shape)\n",
    "\n",
    "plt.contourf(X1, X2, X3, alpha=0.50, cmap=ListedColormap((\"yellow\", \"cyan\")))\n",
    "plt.xlim(X1.min(), X1.max())\n",
    "plt.ylim(X2.min(), X2.max())\n",
    "\n",
    "for i, j in enumerate(np.unique(y_set)):\n",
    "    plt.scatter(\n",
    "        X_set[y_set == j, 0],\n",
    "        X_set[y_set == j, 1],\n",
    "        label = j,\n",
    "        edgecolors = \"Black\"\n",
    "    )\n",
    "plt.title(\"Training Data and SVM before fitting\")\n",
    "plt.xlabel(\"x1\")\n",
    "plt.ylabel(\"x2\")\n",
    "plt.legend()\n",
    "plt.show()"
   ]
  },
  {
   "cell_type": "code",
   "execution_count": 19,
   "metadata": {},
   "outputs": [
    {
     "name": "stdout",
     "output_type": "stream",
     "text": [
      "W: [0.20895486 0.38545352 0.91451003]\n"
     ]
    }
   ],
   "source": [
    "model.fit()\n",
    "print(model)"
   ]
  },
  {
   "cell_type": "code",
   "execution_count": 20,
   "metadata": {},
   "outputs": [
    {
     "data": {
      "image/png": "[encoded data removed]",
      "text/plain": [
       "<Figure size 432x288 with 1 Axes>"
      ]
     },
     "metadata": {
      "needs_background": "light"
     },
     "output_type": "display_data"
    }
   ],
   "source": [
    "# Plot SVM and training data after fitting\n",
    "X_set, y_set = x_train, y_train\n",
    "X_grid_0 = np.arange(start=X_set[:, 0].min() - 1, stop=X_set[:, 0].max() + 1, step=0.01)\n",
    "X_grid_1 = np.arange(start=X_set[:, 1].min() - 1, stop=X_set[:, 1].max() + 1, step=0.01)\n",
    "X1 , X2 = np.meshgrid(X_grid_0, X_grid_1)\n",
    "\n",
    "X3 = model.predict(np.array([X1.ravel(),X2.ravel()]).T).reshape(X1.shape)\n",
    "\n",
    "plt.contourf(X1, X2, X3, alpha=0.50, cmap=ListedColormap((\"yellow\", \"cyan\")))\n",
    "plt.xlim(X1.min(), X1.max())\n",
    "plt.ylim(X2.min(), X2.max())\n",
    "\n",
    "for i, j in enumerate(np.unique(y_set)):\n",
    "    plt.scatter(\n",
    "        X_set[y_set == j, 0],\n",
    "        X_set[y_set == j, 1],\n",
    "        label = j,\n",
    "        edgecolors = \"Black\"\n",
    "    )\n",
    "plt.title(\"Training Data and SVM after fitting\")\n",
    "plt.xlabel(\"x1\")\n",
    "plt.ylabel(\"x2\")\n",
    "plt.legend()\n",
    "plt.show()"
   ]
  },
  {
   "cell_type": "code",
   "execution_count": 21,
   "metadata": {},
   "outputs": [],
   "source": [
    "# Evaluate the model\n",
    "predictions = model.predict(x_test)\n",
    "acc = accuracy_score(y_test, predictions)\n",
    "cm = confusion_matrix(y_test, predictions)"
   ]
  },
  {
   "cell_type": "code",
   "execution_count": 22,
   "metadata": {},
   "outputs": [
    {
     "data": {
      "image/png": "[encoded data removed]",
      "text/plain": [
       "<Figure size 432x288 with 1 Axes>"
      ]
     },
     "metadata": {
      "needs_background": "light"
     },
     "output_type": "display_data"
    }
   ],
   "source": [
    "# Plot SVM and test data\n",
    "X_set, y_set = x_test, y_test\n",
    "X_grid_0 = np.arange(start=X_set[:, 0].min() - 1, stop=X_set[:, 0].max() + 1, step=0.01)\n",
    "X_grid_1 = np.arange(start=X_set[:, 1].min() - 1, stop=X_set[:, 1].max() + 1, step=0.01)\n",
    "X1 , X2 = np.meshgrid(X_grid_0, X_grid_1)\n",
    "\n",
    "X3 = model.predict(np.array([X1.ravel(),X2.ravel()]).T).reshape(X1.shape)\n",
    "\n",
    "plt.contourf(X1, X2, X3, alpha=0.50, cmap=ListedColormap((\"yellow\", \"cyan\")))\n",
    "plt.xlim(X1.min(), X1.max())\n",
    "plt.ylim(X2.min(), X2.max())\n",
    "\n",
    "for i, j in enumerate(np.unique(y_set)):\n",
    "    plt.scatter(\n",
    "        X_set[y_set == j, 0],\n",
    "        X_set[y_set == j, 1],\n",
    "        label = j,\n",
    "        edgecolors = \"Black\"\n",
    "    )\n",
    "plt.title(\"Test Data and SVM\")\n",
    "plt.xlabel(\"x1\")\n",
    "plt.ylabel(\"x2\")\n",
    "plt.legend()\n",
    "plt.show()"
   ]
  },
  {
   "cell_type": "code",
   "execution_count": null,
   "metadata": {},
   "outputs": [],
   "source": [
    "cm"
   ]
  },
  {
   "cell_type": "code",
   "execution_count": null,
   "metadata": {},
   "outputs": [],
   "source": []
  }
 ],
 "metadata": {
  "kernelspec": {
   "display_name": "Python 3",
   "language": "python",
   "name": "python3"
  },
  "language_info": {
   "codemirror_mode": {
    "name": "ipython",
    "version": 3
   },
   "file_extension": ".py",
   "mimetype": "text/x-python",
   "name": "python",
   "nbconvert_exporter": "python",
   "pygments_lexer": "ipython3",
   "version": "3.7.1"
  }
 },
 "nbformat": 4,
 "nbformat_minor": 2
}
